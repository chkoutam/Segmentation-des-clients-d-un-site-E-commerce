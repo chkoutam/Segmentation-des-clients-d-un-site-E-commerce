{
 "cells": [
  {
   "cell_type": "markdown",
   "id": "ca80ddfd",
   "metadata": {},
   "source": [
    "# Segmentez des clients d'un site e-commerce -Partie(3/3):Simulation\n",
    "\n",
    "## Description: \n",
    "\n",
    "Olist souhaite que vous fournissiez à ses équipes d'e-commerce une segmentation des clients qu’elles pourront utiliser au quotidien pour leurs campagnes de communication.\n",
    "Vous devrez fournir à l’équipe marketing une description actionable de votre segmentation et de sa logique sous-jacente pour une utilisation optimale, ainsi qu’une proposition de contrat de maintenance basée sur une analyse de la stabilité des segments au cours du temps.\n",
    "\n",
    "## Objectif:\n",
    "\n",
    "- Comprendre les différents types d'utilisateurs grâce à leur comportement et à leurs données personnelles\n",
    "\n",
    "- Fournir à Olist, une segmentation de ses clients avec une description actionable de cette segmantation et sa logique sous-jacente\n",
    "\n",
    "- Fournir à Olist, une proposition de contrat de maintenance basée sur une analyse de la stabilité des segments au cours du temp"
   ]
  },
  {
   "cell_type": "markdown",
   "id": "f598c388",
   "metadata": {},
   "source": [
    "# 1.Maintenance <a class=\"anchor\" id=\"partie1\"></a>"
   ]
  },
  {
   "cell_type": "code",
   "execution_count": 1,
   "id": "16aa7fc1",
   "metadata": {},
   "outputs": [],
   "source": [
    "# Librairies graphiques, mathématiques et de manipulation de données\n",
    "\n",
    "import pandas as pd\n",
    "import numpy as np\n",
    "import matplotlib.pyplot as plt\n",
    "import seaborn as sns\n",
    "from mpl_toolkits.mplot3d import Axes3D\n",
    "from datetime import timedelta \n",
    "import plotly.express as px\n",
    "\n",
    "# Transformateurs de variables\n",
    "from sklearn.preprocessing import StandardScaler\n",
    "from sklearn.compose import ColumnTransformer, make_column_transformer\n",
    "from sklearn.pipeline import Pipeline, make_pipeline\n",
    "# Méthodes de clustering\n",
    "from sklearn.cluster import KMeans\n",
    "from sklearn.cluster import MiniBatchKMeans\n",
    "from sklearn.cluster import DBSCAN\n",
    "#from yellowbrick.cluster import KElbowVisualizer\n",
    "#from kmodes.kprototypes import KPrototypes\n",
    "from sklearn.cluster import AgglomerativeClustering\n",
    "# Metrics de Clustering\n",
    "from sklearn.metrics import silhouette_score,calinski_harabasz_score\n",
    "from sklearn.metrics import silhouette_samples\n",
    "from sklearn.metrics import adjusted_rand_score\n",
    "from yellowbrick.cluster import KElbowVisualizer, InterclusterDistance\n",
    "\n",
    "pd.set_option(\"display.max_rows\", 101)\n",
    "pd.options.display.max_columns = 999"
   ]
  },
  {
   "cell_type": "code",
   "execution_count": 2,
   "id": "f004a65f",
   "metadata": {},
   "outputs": [],
   "source": [
    "#Importation des données RFM avec les avis\n",
    "dataSet = pd.read_csv(\"data_rmf.csv\",index_col=0)\n",
    "rfm=dataSet.drop(columns={'Avis','customer_unique_id'})"
   ]
  },
  {
   "cell_type": "code",
   "execution_count": 3,
   "id": "6847067a",
   "metadata": {},
   "outputs": [
    {
     "name": "stdout",
     "output_type": "stream",
     "text": [
      "La date d'achat la plus récente 2018-09-03 correspond à un nombre de jours écoulé = 0 jours et la date d'achat la plus ancienne 2016-10-04 correspond à un nombre de jours écoulé = 699 jours.\n"
     ]
    }
   ],
   "source": [
    "print(\"La date d'achat la plus récente 2018-09-03 correspond à un nombre de jours écoulé = {} jours et la date d'achat la plus ancienne 2016-10-04 correspond à un nombre de jours écoulé = {} jours.\".format(rfm.Récence.min(),rfm.Récence.max()))"
   ]
  },
  {
   "cell_type": "code",
   "execution_count": 4,
   "id": "c9099c5a",
   "metadata": {},
   "outputs": [],
   "source": [
    "F0 = rfm[rfm.Récence>=60]\n",
    "\n",
    "cluster_F0 = KMeans(n_clusters=4) # Clustering with KMeans by using the best k \n",
    "modèle_F0 = cluster_F0.fit(F0)"
   ]
  },
  {
   "cell_type": "code",
   "execution_count": 168,
   "id": "04c23817",
   "metadata": {},
   "outputs": [],
   "source": [
    "F1 = rfm[rfm.Récence>=45]\n",
    "\n",
    "cluster_F1 = KMeans(n_clusters=4)\n",
    "modèle_F1 = cluster_F1.fit(F1)\n",
    "\n",
    "F1_pred = modèle_F0.predict(F1) # The clustering of the F1 database is predicted by using the model F0  "
   ]
  },
  {
   "cell_type": "code",
   "execution_count": 169,
   "id": "156e9fc9",
   "metadata": {},
   "outputs": [
    {
     "data": {
      "text/plain": [
       "0.9733434287109333"
      ]
     },
     "execution_count": 169,
     "metadata": {},
     "output_type": "execute_result"
    }
   ],
   "source": [
    "rand_0 = adjusted_rand_score(modèle_F1.labels_, F1_pred)\n",
    "rand_0 # Rand score computed the similarity between predicted and true clusters after 5 days. "
   ]
  },
  {
   "cell_type": "code",
   "execution_count": 170,
   "id": "8a84e35c",
   "metadata": {},
   "outputs": [],
   "source": [
    "F2 = rfm[rfm.Récence>=40]\n",
    "\n",
    "cluster_F2 = KMeans(n_clusters=4)\n",
    "modèle_F2 = cluster_F2.fit(F2)\n",
    "\n",
    "F2_Predict = modèle_F0.predict(F2)"
   ]
  },
  {
   "cell_type": "code",
   "execution_count": 171,
   "id": "96a0e6a5",
   "metadata": {},
   "outputs": [
    {
     "data": {
      "text/plain": [
       "0.9621094601999542"
      ]
     },
     "execution_count": 171,
     "metadata": {},
     "output_type": "execute_result"
    }
   ],
   "source": [
    "rand_1 = adjusted_rand_score(modèle_F2.labels_, F2_Predict)\n",
    "rand_1 # Rand score computed the similarity between predicted and true clusters after 10 days. "
   ]
  },
  {
   "cell_type": "code",
   "execution_count": 172,
   "id": "3a585a6e",
   "metadata": {},
   "outputs": [],
   "source": [
    "F3 = rfm[rfm.Récence>=35]\n",
    "\n",
    "cluster_F3 = KMeans(n_clusters=4)\n",
    "modèle_F3 = cluster_F3.fit(F3)\n",
    "\n",
    "F3_pred = modèle_F0.predict(F3)"
   ]
  },
  {
   "cell_type": "code",
   "execution_count": 173,
   "id": "f26d9df3",
   "metadata": {},
   "outputs": [
    {
     "data": {
      "text/plain": [
       "0.9351914579982035"
      ]
     },
     "execution_count": 173,
     "metadata": {},
     "output_type": "execute_result"
    }
   ],
   "source": [
    "rand_2 = adjusted_rand_score(modèle_F3.labels_, F3_pred)\n",
    "rand_2 # Rand score computed the similarity between predicted and true clusters after 15 days. "
   ]
  },
  {
   "cell_type": "code",
   "execution_count": 174,
   "id": "8b6252eb",
   "metadata": {},
   "outputs": [],
   "source": [
    "F4 = rfm[rfm.Récence>30]\n",
    "\n",
    "cluster_F4 = KMeans(n_clusters=4)\n",
    "modèle_F4 = cluster_F4.fit(F4)\n",
    "\n",
    "F4_pred = modèle_F0.predict(F4)"
   ]
  },
  {
   "cell_type": "code",
   "execution_count": 175,
   "id": "afc329c3",
   "metadata": {},
   "outputs": [
    {
     "data": {
      "text/plain": [
       "0.9251263119529893"
      ]
     },
     "execution_count": 175,
     "metadata": {},
     "output_type": "execute_result"
    }
   ],
   "source": [
    "rand_3 = adjusted_rand_score(modèle_F4.labels_, F4_pred)\n",
    "rand_3 # Rand score computed the similarity between predicted and true clusters after 20 days. "
   ]
  },
  {
   "cell_type": "code",
   "execution_count": 177,
   "id": "2ae880b3",
   "metadata": {},
   "outputs": [],
   "source": [
    "F5 = rfm[rfm.Récence>=20]\n",
    "\n",
    "cluster_F5 = KMeans(n_clusters=4)\n",
    "modèle_F5 = cluster_F5.fit(F5)\n",
    "\n",
    "F5_pred = modèle_F0.predict(F5)"
   ]
  },
  {
   "cell_type": "code",
   "execution_count": 178,
   "id": "9158f65e",
   "metadata": {},
   "outputs": [
    {
     "data": {
      "text/plain": [
       "0.6791978530611624"
      ]
     },
     "execution_count": 178,
     "metadata": {},
     "output_type": "execute_result"
    }
   ],
   "source": [
    "rand_4 = adjusted_rand_score(modèle_F5.labels_, F5_pred)\n",
    "rand_4 # Rand score computed the similarity between predicted and true clusters after 25 days. "
   ]
  },
  {
   "cell_type": "code",
   "execution_count": 179,
   "id": "cb5e4998",
   "metadata": {},
   "outputs": [
    {
     "data": {
      "text/html": [
       "<div>\n",
       "<style scoped>\n",
       "    .dataframe tbody tr th:only-of-type {\n",
       "        vertical-align: middle;\n",
       "    }\n",
       "\n",
       "    .dataframe tbody tr th {\n",
       "        vertical-align: top;\n",
       "    }\n",
       "\n",
       "    .dataframe thead th {\n",
       "        text-align: right;\n",
       "    }\n",
       "</style>\n",
       "<table border=\"1\" class=\"dataframe\">\n",
       "  <thead>\n",
       "    <tr style=\"text-align: right;\">\n",
       "      <th></th>\n",
       "      <th>Temps</th>\n",
       "      <th>Adjusted Rand Score</th>\n",
       "    </tr>\n",
       "  </thead>\n",
       "  <tbody>\n",
       "    <tr>\n",
       "      <th>0</th>\n",
       "      <td>5</td>\n",
       "      <td>0.973343</td>\n",
       "    </tr>\n",
       "    <tr>\n",
       "      <th>1</th>\n",
       "      <td>10</td>\n",
       "      <td>0.962109</td>\n",
       "    </tr>\n",
       "    <tr>\n",
       "      <th>2</th>\n",
       "      <td>15</td>\n",
       "      <td>0.935191</td>\n",
       "    </tr>\n",
       "    <tr>\n",
       "      <th>3</th>\n",
       "      <td>20</td>\n",
       "      <td>0.925126</td>\n",
       "    </tr>\n",
       "    <tr>\n",
       "      <th>4</th>\n",
       "      <td>25</td>\n",
       "      <td>0.679198</td>\n",
       "    </tr>\n",
       "  </tbody>\n",
       "</table>\n",
       "</div>"
      ],
      "text/plain": [
       "  Temps  Adjusted Rand Score\n",
       "0     5             0.973343\n",
       "1    10             0.962109\n",
       "2    15             0.935191\n",
       "3    20             0.925126\n",
       "4    25             0.679198"
      ]
     },
     "execution_count": 179,
     "metadata": {},
     "output_type": "execute_result"
    }
   ],
   "source": [
    "rand = ({\"5\":[rand_0],\"10\":[rand_1],\"15\":[rand_2],\"20\":[rand_3],\"25\":[rand_4]})\n",
    "rand = pd.DataFrame(rand).T.reset_index()\n",
    "rand.columns = [\"Temps\",\"Adjusted Rand Score\"]\n",
    "rand"
   ]
  },
  {
   "cell_type": "code",
   "execution_count": 180,
   "id": "089dcdf3",
   "metadata": {},
   "outputs": [
    {
     "data": {
      "text/plain": [
       "[Text(0.5, 1.0, 'Adjusted Rand score  en fonction du délai de prédiction')]"
      ]
     },
     "execution_count": 180,
     "metadata": {},
     "output_type": "execute_result"
    },
    {
     "data": {
      "image/png": "[encoded data removed]",
      "text/plain": [
       "<Figure size 720x504 with 1 Axes>"
      ]
     },
     "metadata": {},
     "output_type": "display_data"
    }
   ],
   "source": [
    "plt.figure(figsize=(10,7))\n",
    "\n",
    "sns.set(font_scale = 1.2)\n",
    "sns.set_style(\"whitegrid\") \n",
    "sns.lineplot(x=\"Temps\",y=\"Adjusted Rand Score\",data=rand,markers=True).set(title=\"Adjusted Rand score  en fonction du délai de prédiction\")"
   ]
  },
  {
   "cell_type": "markdown",
   "id": "98cbb006",
   "metadata": {},
   "source": [
    "D'après les résultats du Rand score il est conseillé de faire une maintenance du clustering tout les 22 jours environ."
   ]
  },
  {
   "cell_type": "code",
   "execution_count": 185,
   "id": "a4529b8e",
   "metadata": {},
   "outputs": [],
   "source": [
    "F01 = rfm[rfm.Récence>=20]\n",
    "\n",
    "cluster_F01 = KMeans(n_clusters=4)\n",
    "modèle_F01 = cluster_F01.fit(F01)"
   ]
  },
  {
   "cell_type": "code",
   "execution_count": 186,
   "id": "a93f70ef",
   "metadata": {},
   "outputs": [],
   "source": [
    "F02 = rfm[rfm.Récence>=0]\n",
    "\n",
    "cluster_F02 = KMeans(n_clusters=4)\n",
    "modèle_F02 = cluster_F02.fit(F02)\n",
    "\n",
    "F02_pred = modèle_F01.predict(F02)"
   ]
  },
  {
   "cell_type": "code",
   "execution_count": 187,
   "id": "72c9f7d2",
   "metadata": {},
   "outputs": [
    {
     "data": {
      "text/plain": [
       "0.9456850041667961"
      ]
     },
     "execution_count": 187,
     "metadata": {},
     "output_type": "execute_result"
    }
   ],
   "source": [
    "rand = adjusted_rand_score(modèle_F02.labels_, F02_pred)\n",
    "rand"
   ]
  },
  {
   "cell_type": "code",
   "execution_count": null,
   "id": "b3b9a99a",
   "metadata": {},
   "outputs": [],
   "source": []
  }
 ],
 "metadata": {
  "kernelspec": {
   "display_name": "Python 3",
   "language": "python",
   "name": "python3"
  },
  "language_info": {
   "codemirror_mode": {
    "name": "ipython",
    "version": 3
   },
   "file_extension": ".py",
   "mimetype": "text/x-python",
   "name": "python",
   "nbconvert_exporter": "python",
   "pygments_lexer": "ipython3",
   "version": "3.8.8"
  }
 },
 "nbformat": 4,
 "nbformat_minor": 5
}
